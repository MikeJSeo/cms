{
 "cells": [
  {
   "cell_type": "code",
   "execution_count": null,
   "id": "e5cd534d",
   "metadata": {},
   "outputs": [],
   "source": [
    "import os\n",
    "import pandas as pd\n",
    "import numpy as np"
   ]
  },
  {
   "cell_type": "code",
   "execution_count": null,
   "id": "2caa2897",
   "metadata": {},
   "outputs": [],
   "source": [
    "os.chdir(\"C:/Users/mike/Desktop/\")\n",
    "benef = pd.read_csv(\"beneficiary summary.csv\")\n",
    "\n",
    "# EDA\n",
    "len(set(benef['DESYNPUF_ID']))\n",
    "benef['BENE_SEX_IDENT_CD'].value_counts()/ benef.shape[0]\n",
    "benef['BENE_RACE_CD'].value_counts()/ benef.shape[0]\n"
   ]
  },
  {
   "cell_type": "code",
   "execution_count": 2,
   "id": "db365e41",
   "metadata": {},
   "outputs": [
    {
     "data": {
      "text/plain": [
       "0         84.672512\n",
       "1         65.000650\n",
       "2         71.333429\n",
       "3         66.585898\n",
       "4         71.418304\n",
       "            ...    \n",
       "116347    64.505089\n",
       "116348    91.585727\n",
       "116349    68.754321\n",
       "116350    96.505746\n",
       "116351    55.752000\n",
       "Name: age, Length: 116352, dtype: float64"
      ]
     },
     "execution_count": 2,
     "metadata": {},
     "output_type": "execute_result"
    }
   ],
   "source": [
    "# Defining age variable\n",
    "benef['BENE_BIRTH_DT'] = pd.to_datetime(benef['BENE_BIRTH_DT'], format = '%Y%m%d')\n",
    "threshold = pd.to_datetime(\"20080101\", format = '%Y%m%d')\n",
    "benef['age'] = (threshold - benef['BENE_BIRTH_DT']) / np.timedelta64(1, 'Y')\n",
    "benef['age']"
   ]
  }
 ],
 "metadata": {
  "kernelspec": {
   "display_name": "Python 3",
   "language": "python",
   "name": "python3"
  },
  "language_info": {
   "codemirror_mode": {
    "name": "ipython",
    "version": 3
   },
   "file_extension": ".py",
   "mimetype": "text/x-python",
   "name": "python",
   "nbconvert_exporter": "python",
   "pygments_lexer": "ipython3",
   "version": "3.8.8"
  }
 },
 "nbformat": 4,
 "nbformat_minor": 5
}
